{
 "cells": [
  {
   "cell_type": "markdown",
   "id": "e7d45036-515c-4c69-9c2a-3b98565c5e66",
   "metadata": {},
   "source": [
    "# DA5401 – Assignment 7\n",
    "**Name:** Anan Madhav T V  \n",
    "**Roll No:** MM22B013\n",
    "\n",
    "---\n",
    "\n",
    "### Notebook outline\n",
    "- Part A: Data Preparation and Baseline\n",
    "- Part B: ROC Analysis for Model Selection\n",
    "- Part C: Precision-Recall Curve (PRC) Analysis\n",
    "- Part D: Final Recommendation"
   ]
  },
  {
   "cell_type": "markdown",
   "id": "1304285b-8cb9-484f-977e-ca9c3c6a535f",
   "metadata": {},
   "source": [
    "## Part A: Data Preparation and Baseline"
   ]
  },
  {
   "cell_type": "code",
   "execution_count": 2,
   "id": "0d8cff62-e632-49bb-8aee-d90109895ade",
   "metadata": {},
   "outputs": [],
   "source": [
    "import os\n",
    "import numpy as np\n",
    "import pandas as pd\n",
    "from sklearn.preprocessing import StandardScaler, label_binarize\n",
    "from sklearn.model_selection import train_test_split\n",
    "from sklearn.metrics import accuracy_score, f1_score, roc_curve, auc, roc_auc_score, precision_recall_curve, average_precision_score\n",
    "import matplotlib.pyplot as plt\n"
   ]
  },
  {
   "cell_type": "markdown",
   "id": "31917db9-2b1a-46d1-a383-e8d80080baba",
   "metadata": {},
   "source": [
    "#### Load and Prepare Data"
   ]
  },
  {
   "cell_type": "code",
   "execution_count": 3,
   "id": "661123fe-5303-4c58-8455-827f8b6463e7",
   "metadata": {},
   "outputs": [
    {
     "name": "stdout",
     "output_type": "stream",
     "text": [
      "Loaded: ./sat.trn -> (4435, 37) ; ./sat.tst -> (2000, 37)\n"
     ]
    },
    {
     "data": {
      "text/html": [
       "<div>\n",
       "<style scoped>\n",
       "    .dataframe tbody tr th:only-of-type {\n",
       "        vertical-align: middle;\n",
       "    }\n",
       "\n",
       "    .dataframe tbody tr th {\n",
       "        vertical-align: top;\n",
       "    }\n",
       "\n",
       "    .dataframe thead th {\n",
       "        text-align: right;\n",
       "    }\n",
       "</style>\n",
       "<table border=\"1\" class=\"dataframe\">\n",
       "  <thead>\n",
       "    <tr style=\"text-align: right;\">\n",
       "      <th></th>\n",
       "      <th>0</th>\n",
       "      <th>1</th>\n",
       "      <th>2</th>\n",
       "      <th>3</th>\n",
       "      <th>4</th>\n",
       "      <th>5</th>\n",
       "      <th>6</th>\n",
       "      <th>7</th>\n",
       "      <th>8</th>\n",
       "      <th>9</th>\n",
       "      <th>...</th>\n",
       "      <th>27</th>\n",
       "      <th>28</th>\n",
       "      <th>29</th>\n",
       "      <th>30</th>\n",
       "      <th>31</th>\n",
       "      <th>32</th>\n",
       "      <th>33</th>\n",
       "      <th>34</th>\n",
       "      <th>35</th>\n",
       "      <th>36</th>\n",
       "    </tr>\n",
       "  </thead>\n",
       "  <tbody>\n",
       "    <tr>\n",
       "      <th>0</th>\n",
       "      <td>92</td>\n",
       "      <td>115</td>\n",
       "      <td>120</td>\n",
       "      <td>94</td>\n",
       "      <td>84</td>\n",
       "      <td>102</td>\n",
       "      <td>106</td>\n",
       "      <td>79</td>\n",
       "      <td>84</td>\n",
       "      <td>102</td>\n",
       "      <td>...</td>\n",
       "      <td>104</td>\n",
       "      <td>88</td>\n",
       "      <td>121</td>\n",
       "      <td>128</td>\n",
       "      <td>100</td>\n",
       "      <td>84</td>\n",
       "      <td>107</td>\n",
       "      <td>113</td>\n",
       "      <td>87</td>\n",
       "      <td>3</td>\n",
       "    </tr>\n",
       "    <tr>\n",
       "      <th>1</th>\n",
       "      <td>84</td>\n",
       "      <td>102</td>\n",
       "      <td>106</td>\n",
       "      <td>79</td>\n",
       "      <td>84</td>\n",
       "      <td>102</td>\n",
       "      <td>102</td>\n",
       "      <td>83</td>\n",
       "      <td>80</td>\n",
       "      <td>102</td>\n",
       "      <td>...</td>\n",
       "      <td>100</td>\n",
       "      <td>84</td>\n",
       "      <td>107</td>\n",
       "      <td>113</td>\n",
       "      <td>87</td>\n",
       "      <td>84</td>\n",
       "      <td>99</td>\n",
       "      <td>104</td>\n",
       "      <td>79</td>\n",
       "      <td>3</td>\n",
       "    </tr>\n",
       "    <tr>\n",
       "      <th>2</th>\n",
       "      <td>84</td>\n",
       "      <td>102</td>\n",
       "      <td>102</td>\n",
       "      <td>83</td>\n",
       "      <td>80</td>\n",
       "      <td>102</td>\n",
       "      <td>102</td>\n",
       "      <td>79</td>\n",
       "      <td>84</td>\n",
       "      <td>94</td>\n",
       "      <td>...</td>\n",
       "      <td>87</td>\n",
       "      <td>84</td>\n",
       "      <td>99</td>\n",
       "      <td>104</td>\n",
       "      <td>79</td>\n",
       "      <td>84</td>\n",
       "      <td>99</td>\n",
       "      <td>104</td>\n",
       "      <td>79</td>\n",
       "      <td>3</td>\n",
       "    </tr>\n",
       "    <tr>\n",
       "      <th>3</th>\n",
       "      <td>80</td>\n",
       "      <td>102</td>\n",
       "      <td>102</td>\n",
       "      <td>79</td>\n",
       "      <td>84</td>\n",
       "      <td>94</td>\n",
       "      <td>102</td>\n",
       "      <td>79</td>\n",
       "      <td>80</td>\n",
       "      <td>94</td>\n",
       "      <td>...</td>\n",
       "      <td>79</td>\n",
       "      <td>84</td>\n",
       "      <td>99</td>\n",
       "      <td>104</td>\n",
       "      <td>79</td>\n",
       "      <td>84</td>\n",
       "      <td>103</td>\n",
       "      <td>104</td>\n",
       "      <td>79</td>\n",
       "      <td>3</td>\n",
       "    </tr>\n",
       "    <tr>\n",
       "      <th>4</th>\n",
       "      <td>84</td>\n",
       "      <td>94</td>\n",
       "      <td>102</td>\n",
       "      <td>79</td>\n",
       "      <td>80</td>\n",
       "      <td>94</td>\n",
       "      <td>98</td>\n",
       "      <td>76</td>\n",
       "      <td>80</td>\n",
       "      <td>102</td>\n",
       "      <td>...</td>\n",
       "      <td>79</td>\n",
       "      <td>84</td>\n",
       "      <td>103</td>\n",
       "      <td>104</td>\n",
       "      <td>79</td>\n",
       "      <td>79</td>\n",
       "      <td>107</td>\n",
       "      <td>109</td>\n",
       "      <td>87</td>\n",
       "      <td>3</td>\n",
       "    </tr>\n",
       "    <tr>\n",
       "      <th>5</th>\n",
       "      <td>80</td>\n",
       "      <td>94</td>\n",
       "      <td>98</td>\n",
       "      <td>76</td>\n",
       "      <td>80</td>\n",
       "      <td>102</td>\n",
       "      <td>102</td>\n",
       "      <td>79</td>\n",
       "      <td>76</td>\n",
       "      <td>102</td>\n",
       "      <td>...</td>\n",
       "      <td>79</td>\n",
       "      <td>79</td>\n",
       "      <td>107</td>\n",
       "      <td>109</td>\n",
       "      <td>87</td>\n",
       "      <td>79</td>\n",
       "      <td>107</td>\n",
       "      <td>109</td>\n",
       "      <td>87</td>\n",
       "      <td>3</td>\n",
       "    </tr>\n",
       "    <tr>\n",
       "      <th>6</th>\n",
       "      <td>76</td>\n",
       "      <td>102</td>\n",
       "      <td>106</td>\n",
       "      <td>83</td>\n",
       "      <td>76</td>\n",
       "      <td>102</td>\n",
       "      <td>106</td>\n",
       "      <td>87</td>\n",
       "      <td>80</td>\n",
       "      <td>98</td>\n",
       "      <td>...</td>\n",
       "      <td>87</td>\n",
       "      <td>79</td>\n",
       "      <td>103</td>\n",
       "      <td>104</td>\n",
       "      <td>83</td>\n",
       "      <td>79</td>\n",
       "      <td>103</td>\n",
       "      <td>104</td>\n",
       "      <td>79</td>\n",
       "      <td>3</td>\n",
       "    </tr>\n",
       "    <tr>\n",
       "      <th>7</th>\n",
       "      <td>76</td>\n",
       "      <td>102</td>\n",
       "      <td>106</td>\n",
       "      <td>87</td>\n",
       "      <td>80</td>\n",
       "      <td>98</td>\n",
       "      <td>106</td>\n",
       "      <td>79</td>\n",
       "      <td>76</td>\n",
       "      <td>94</td>\n",
       "      <td>...</td>\n",
       "      <td>83</td>\n",
       "      <td>79</td>\n",
       "      <td>103</td>\n",
       "      <td>104</td>\n",
       "      <td>79</td>\n",
       "      <td>79</td>\n",
       "      <td>95</td>\n",
       "      <td>100</td>\n",
       "      <td>79</td>\n",
       "      <td>3</td>\n",
       "    </tr>\n",
       "    <tr>\n",
       "      <th>8</th>\n",
       "      <td>76</td>\n",
       "      <td>89</td>\n",
       "      <td>98</td>\n",
       "      <td>76</td>\n",
       "      <td>76</td>\n",
       "      <td>94</td>\n",
       "      <td>98</td>\n",
       "      <td>76</td>\n",
       "      <td>76</td>\n",
       "      <td>98</td>\n",
       "      <td>...</td>\n",
       "      <td>75</td>\n",
       "      <td>75</td>\n",
       "      <td>91</td>\n",
       "      <td>96</td>\n",
       "      <td>71</td>\n",
       "      <td>79</td>\n",
       "      <td>87</td>\n",
       "      <td>93</td>\n",
       "      <td>71</td>\n",
       "      <td>4</td>\n",
       "    </tr>\n",
       "    <tr>\n",
       "      <th>9</th>\n",
       "      <td>76</td>\n",
       "      <td>94</td>\n",
       "      <td>98</td>\n",
       "      <td>76</td>\n",
       "      <td>76</td>\n",
       "      <td>98</td>\n",
       "      <td>102</td>\n",
       "      <td>72</td>\n",
       "      <td>76</td>\n",
       "      <td>94</td>\n",
       "      <td>...</td>\n",
       "      <td>71</td>\n",
       "      <td>79</td>\n",
       "      <td>87</td>\n",
       "      <td>93</td>\n",
       "      <td>71</td>\n",
       "      <td>79</td>\n",
       "      <td>87</td>\n",
       "      <td>93</td>\n",
       "      <td>67</td>\n",
       "      <td>4</td>\n",
       "    </tr>\n",
       "  </tbody>\n",
       "</table>\n",
       "<p>10 rows × 37 columns</p>\n",
       "</div>"
      ],
      "text/plain": [
       "   0    1    2   3   4    5    6   7   8    9   ...   27  28   29   30   31  \\\n",
       "0  92  115  120  94  84  102  106  79  84  102  ...  104  88  121  128  100   \n",
       "1  84  102  106  79  84  102  102  83  80  102  ...  100  84  107  113   87   \n",
       "2  84  102  102  83  80  102  102  79  84   94  ...   87  84   99  104   79   \n",
       "3  80  102  102  79  84   94  102  79  80   94  ...   79  84   99  104   79   \n",
       "4  84   94  102  79  80   94   98  76  80  102  ...   79  84  103  104   79   \n",
       "5  80   94   98  76  80  102  102  79  76  102  ...   79  79  107  109   87   \n",
       "6  76  102  106  83  76  102  106  87  80   98  ...   87  79  103  104   83   \n",
       "7  76  102  106  87  80   98  106  79  76   94  ...   83  79  103  104   79   \n",
       "8  76   89   98  76  76   94   98  76  76   98  ...   75  75   91   96   71   \n",
       "9  76   94   98  76  76   98  102  72  76   94  ...   71  79   87   93   71   \n",
       "\n",
       "   32   33   34  35  36  \n",
       "0  84  107  113  87   3  \n",
       "1  84   99  104  79   3  \n",
       "2  84   99  104  79   3  \n",
       "3  84  103  104  79   3  \n",
       "4  79  107  109  87   3  \n",
       "5  79  107  109  87   3  \n",
       "6  79  103  104  79   3  \n",
       "7  79   95  100  79   3  \n",
       "8  79   87   93  71   4  \n",
       "9  79   87   93  67   4  \n",
       "\n",
       "[10 rows x 37 columns]"
      ]
     },
     "execution_count": 3,
     "metadata": {},
     "output_type": "execute_result"
    }
   ],
   "source": [
    "train_path = \"./sat.trn\"\n",
    "test_path  = \"./sat.tst\"\n",
    "\n",
    "train = pd.read_csv(train_path, header=None, sep=r'\\s+')\n",
    "test  = pd.read_csv(test_path, header=None, sep=r'\\s+')\n",
    "print(\"Loaded:\", train_path, \"->\", train.shape, \";\", test_path, \"->\", test.shape)\n",
    "train.head(10)"
   ]
  },
  {
   "cell_type": "markdown",
   "id": "8f897c1f-3490-4733-aaad-e0d2ccdf4baf",
   "metadata": {},
   "source": [
    "#### Train/Test Split:"
   ]
  },
  {
   "cell_type": "code",
   "execution_count": 4,
   "id": "a26c7e0a-77a8-4ec0-8543-8bd39229bde7",
   "metadata": {},
   "outputs": [
    {
     "name": "stdout",
     "output_type": "stream",
     "text": [
      "Labels present: [1 2 3 4 5 7]\n"
     ]
    }
   ],
   "source": [
    "X_train = train.iloc[:,:-1].values; y_train = train.iloc[:,-1].values.astype(int)\n",
    "X_test  = test.iloc[:,:-1].values;  y_test  = test.iloc[:,-1].values.astype(int)\n",
    "scaler = StandardScaler()\n",
    "X_train_scaled = scaler.fit_transform(X_train); X_test_scaled = scaler.transform(X_test)\n",
    "print(\"Labels present:\", np.unique(y_train))"
   ]
  },
  {
   "cell_type": "markdown",
   "id": "c415cd03-a34e-40f4-9500-c404cd9f447f",
   "metadata": {},
   "source": [
    "#### Train All Models"
   ]
  },
  {
   "cell_type": "code",
   "execution_count": 5,
   "id": "af9358d3-390d-4a4b-8347-1b181dfb41da",
   "metadata": {},
   "outputs": [
    {
     "data": {
      "text/plain": [
       "{'KNN': KNeighborsClassifier(),\n",
       " 'DecisionTree': DecisionTreeClassifier(random_state=0),\n",
       " 'Dummy(Prior)': DummyClassifier(random_state=0)}"
      ]
     },
     "execution_count": 5,
     "metadata": {},
     "output_type": "execute_result"
    }
   ],
   "source": [
    "from sklearn.neighbors import KNeighborsClassifier\n",
    "from sklearn.tree import DecisionTreeClassifier\n",
    "from sklearn.dummy import DummyClassifier\n",
    "models = {\n",
    "    \"KNN\": KNeighborsClassifier(),\n",
    "    \"DecisionTree\": DecisionTreeClassifier(random_state=0),\n",
    "    \"Dummy(Prior)\": DummyClassifier(strategy=\"prior\", random_state=0)\n",
    "}\n",
    "models"
   ]
  },
  {
   "cell_type": "code",
   "execution_count": 6,
   "id": "e8b284f3-d68f-421b-977b-ae491caf67cc",
   "metadata": {},
   "outputs": [
    {
     "name": "stdout",
     "output_type": "stream",
     "text": [
      "Trained KNN\n",
      "Trained DecisionTree\n",
      "Trained Dummy(Prior)\n",
      "Trained LogisticRegression\n",
      "Trained GaussianNB\n",
      "Trained SVC\n"
     ]
    }
   ],
   "source": [
    "from sklearn.linear_model import LogisticRegression\n",
    "from sklearn.naive_bayes import GaussianNB\n",
    "from sklearn.svm import SVC\n",
    "models.update({\n",
    "    \"LogisticRegression\": LogisticRegression(max_iter=1000, solver='lbfgs'),\n",
    "    \"GaussianNB\": GaussianNB(),\n",
    "    \"SVC\": SVC(probability=True, random_state=0)\n",
    "})\n",
    "fitted = {}\n",
    "for name, clf in models.items():\n",
    "    clf.fit(X_train_scaled, y_train)\n",
    "    fitted[name] = clf\n",
    "    print(\"Trained\", name)"
   ]
  },
  {
   "cell_type": "markdown",
   "id": "6824d0bd-addd-41ca-9801-a2e074943097",
   "metadata": {},
   "source": [
    "#### Baseline Evaluation"
   ]
  },
  {
   "cell_type": "code",
   "execution_count": 7,
   "id": "e9bc8e95-a758-4148-9771-d64fe1392e46",
   "metadata": {},
   "outputs": [
    {
     "data": {
      "text/html": [
       "<div>\n",
       "<style scoped>\n",
       "    .dataframe tbody tr th:only-of-type {\n",
       "        vertical-align: middle;\n",
       "    }\n",
       "\n",
       "    .dataframe tbody tr th {\n",
       "        vertical-align: top;\n",
       "    }\n",
       "\n",
       "    .dataframe thead th {\n",
       "        text-align: right;\n",
       "    }\n",
       "</style>\n",
       "<table border=\"1\" class=\"dataframe\">\n",
       "  <thead>\n",
       "    <tr style=\"text-align: right;\">\n",
       "      <th></th>\n",
       "      <th>model</th>\n",
       "      <th>accuracy</th>\n",
       "      <th>weighted_f1</th>\n",
       "    </tr>\n",
       "  </thead>\n",
       "  <tbody>\n",
       "    <tr>\n",
       "      <th>0</th>\n",
       "      <td>KNN</td>\n",
       "      <td>0.9045</td>\n",
       "      <td>0.903748</td>\n",
       "    </tr>\n",
       "    <tr>\n",
       "      <th>1</th>\n",
       "      <td>SVC</td>\n",
       "      <td>0.8955</td>\n",
       "      <td>0.892490</td>\n",
       "    </tr>\n",
       "    <tr>\n",
       "      <th>2</th>\n",
       "      <td>DecisionTree</td>\n",
       "      <td>0.8510</td>\n",
       "      <td>0.851700</td>\n",
       "    </tr>\n",
       "    <tr>\n",
       "      <th>3</th>\n",
       "      <td>LogisticRegression</td>\n",
       "      <td>0.8395</td>\n",
       "      <td>0.829595</td>\n",
       "    </tr>\n",
       "    <tr>\n",
       "      <th>4</th>\n",
       "      <td>GaussianNB</td>\n",
       "      <td>0.7965</td>\n",
       "      <td>0.803581</td>\n",
       "    </tr>\n",
       "    <tr>\n",
       "      <th>5</th>\n",
       "      <td>Dummy(Prior)</td>\n",
       "      <td>0.2305</td>\n",
       "      <td>0.086356</td>\n",
       "    </tr>\n",
       "  </tbody>\n",
       "</table>\n",
       "</div>"
      ],
      "text/plain": [
       "                model  accuracy  weighted_f1\n",
       "0                 KNN    0.9045     0.903748\n",
       "1                 SVC    0.8955     0.892490\n",
       "2        DecisionTree    0.8510     0.851700\n",
       "3  LogisticRegression    0.8395     0.829595\n",
       "4          GaussianNB    0.7965     0.803581\n",
       "5        Dummy(Prior)    0.2305     0.086356"
      ]
     },
     "execution_count": 7,
     "metadata": {},
     "output_type": "execute_result"
    }
   ],
   "source": [
    "from sklearn.metrics import accuracy_score, f1_score\n",
    "rows = []\n",
    "for name, clf in fitted.items():\n",
    "    y_pred = clf.predict(X_test_scaled)\n",
    "    rows.append({\"model\":name, \"accuracy\":accuracy_score(y_test, y_pred), \"weighted_f1\":f1_score(y_test, y_pred, average='weighted')})\n",
    "pd.DataFrame(rows).sort_values(\"accuracy\", ascending=False).reset_index(drop=True)"
   ]
  },
  {
   "cell_type": "markdown",
   "id": "85a14664-0d2c-48f4-aaa9-198b2f50e17d",
   "metadata": {},
   "source": [
    "## Part B: ROC Analysis for Model Selection"
   ]
  },
  {
   "cell_type": "markdown",
   "id": "e1c318e3-4c79-40a4-86bc-ec4865e5e5e4",
   "metadata": {},
   "source": [
    "#### Multi-Class ROC Calculation"
   ]
  },
  {
   "cell_type": "markdown",
   "id": "6c410b4f-528c-485b-82c4-0a4986078959",
   "metadata": {},
   "source": [
    "The One-vs-Rest (OvR) approach, also known as One-vs-All, adapts binary classification metrics like the ROC curve for a multi-class setting. The strategy works by decomposing the multi-class problem into multiple binary classification problems. For a dataset with N classes, N separate binary classifiers are considered. For each classifier, one class is treated as the \"positive\" class, and all the remaining N-1 classes are grouped together and treated as a single \"negative\" class. A standard binary ROC curve which plots the True Positive Rate (TPR) against the False Positive Rate (FPR) across various decision thresholds is then generated for each of these N binarized problems.To calculate a single, aggregate Area Under the Curve (AUC) for the entire model, these N individual ROC curves are averaged. A common method is macro-averaging, the AUC is calculated for each of the N class-specific ROC curves individually, and then the simple average of these N AUC scores is taken. This method gives equal weight to the performance of each class, regardless of its size or an imbalance in the dataset."
   ]
  },
  {
   "cell_type": "markdown",
   "id": "b8d06065-ac1b-44e8-a33c-1350f2cf5fa3",
   "metadata": {},
   "source": [
    "#### Plotting ROC"
   ]
  },
  {
   "cell_type": "code",
   "execution_count": 8,
   "id": "b6029b51-c88e-4e25-b98d-df0c18ad7f98",
   "metadata": {},
   "outputs": [
    {
     "data": {
      "image/png": "[encoded data removed]",
      "text/plain": [
       "<Figure size 800x600 with 1 Axes>"
      ]
     },
     "metadata": {},
     "output_type": "display_data"
    }
   ],
   "source": [
    "classes = np.unique(y_train)\n",
    "y_test_binarized = label_binarize(y_test, classes=classes)\n",
    "\n",
    "plt.figure(figsize=(8,6))\n",
    "for name, clf in fitted.items():\n",
    "    y_score = clf.predict_proba(X_test_scaled)\n",
    "\n",
    "    fpr = {}; tpr = {}\n",
    "    for i in range(len(classes)):\n",
    "        fpr[i], tpr[i], _ = roc_curve(y_test_binarized[:, i], y_score[:, i])\n",
    "    \n",
    "    all_fpr = np.unique(np.concatenate([fpr[i] for i in range(len(classes))]))\n",
    "    mean_tpr = np.zeros_like(all_fpr)\n",
    "    for i in range(len(classes)):\n",
    "        mean_tpr += np.interp(all_fpr, fpr[i], tpr[i])\n",
    "    mean_tpr /= len(classes)\n",
    "    \n",
    "    macro_auc = auc(all_fpr, mean_tpr)\n",
    "    # plot after diagonal so dummy (AUC~0.5) stays visible\n",
    "    plt.plot(all_fpr, mean_tpr, label=f\"{name} (AUC={macro_auc:.3f})\", zorder=2)\n",
    "\n",
    "plt.xlabel('False Positive Rate')\n",
    "plt.ylabel('True Positive Rate')\n",
    "plt.title('OvR Macro-averaged ROC - all models')\n",
    "plt.legend(loc='lower right', fontsize='small')\n",
    "plt.grid(alpha=0.2)\n",
    "plt.show()"
   ]
  },
  {
   "cell_type": "markdown",
   "id": "df9895c9-95a1-4ea9-9202-fd92c10418c7",
   "metadata": {},
   "source": [
    "### ROC Interpretation"
   ]
  },
  {
   "cell_type": "markdown",
   "id": "456340ec-e496-45a5-a528-5e013144f54e",
   "metadata": {},
   "source": [
    "From the ROC curves, it is clear that the **Support Vector Classifier (SVC) achieved the highest macro-averaged AUC of about 0.985**.  \n",
    "This shows that SVC can clearly separate the six land-cover classes and maintain a high True Positive Rate (TPR) even at low False Positive Rates (FPR). Models like K-Nearest Neighbors (AUC = 0.979) and Logistic Regression (AUC = 0.976) also performed very well, while the Decision Tree (AUC = 0.900) and Gaussian Naive Bayes (AUC = 0.955) showed moderate results. The **Dummy Classifier (Prior) had the least macro-averaged AUC of about 0.500**, which represents random-chance performance. This is because it only predicts based on class frequencies and does not learn any real patterns from the data, so its ROC curve lies along the diagonal line.\n",
    "\n",
    "An **AUC less than 0.5** would mean that the model performs worse than random, i.e., it often predicts the wrong class more confidently than the correct one.  \n",
    "Such results can happen when:\n",
    "- The prediction scores are reversed or misinterpreted.  \n",
    "- The model overfits noise instead of actual patterns.  \n",
    "- There is a severe data or label imbalance.\n",
    "\n",
    "\n"
   ]
  },
  {
   "cell_type": "markdown",
   "id": "0e937bd2-346c-4945-a694-728d75dbf827",
   "metadata": {},
   "source": [
    "## Part C: Precision-Recall Curve (PRC) Analysis"
   ]
  },
  {
   "cell_type": "markdown",
   "id": "85e8f93b-ffa1-45e8-b2b6-1287b43d8f11",
   "metadata": {},
   "source": [
    "#### PRC Calculation"
   ]
  },
  {
   "cell_type": "markdown",
   "id": "e67eb835-78fd-4fec-9a3b-9379688e8f8f",
   "metadata": {},
   "source": [
    "The Precision-Recall Curve (PRC) is generally more suitable than the ROC curve when the dataset is highly imbalanced. This is because the ROC curve can give an overly optimistic impression of model performance when the number of negative samples is much larger than the number of positives. In such cases, even a large number of false positives may not noticeably change the False Positive Rate used in ROC. On the other hand, the PRC focuses directly on the model’s ability to correctly identify the positive (minority) class by plotting Precision against Recall. This makes it more informative for evaluating how well a model detects rare or underrepresented classes. Although the Landsat dataset has only moderate imbalance, the PRC is still helpful as it clearly shows the trade-off between precision and recall across different decision thresholds, providing a more practical view of classification performance."
   ]
  },
  {
   "cell_type": "markdown",
   "id": "7717be43-18c3-440f-a2dd-bd8c467ce68e",
   "metadata": {},
   "source": [
    "#### Plotting PRC"
   ]
  },
  {
   "cell_type": "code",
   "execution_count": 9,
   "id": "1682c175-e370-4e93-9e0c-98ad9bee9b71",
   "metadata": {},
   "outputs": [
    {
     "data": {
      "image/png": "[encoded data removed]",
      "text/plain": [
       "<Figure size 800x600 with 1 Axes>"
      ]
     },
     "metadata": {},
     "output_type": "display_data"
    }
   ],
   "source": [
    "plt.figure(figsize=(8,6))\n",
    "for name, clf in fitted.items():\n",
    "    y_score = clf.predict_proba(X_test_scaled)\n",
    "    precisions = {}; recalls = {}; aps = []\n",
    "    for i in range(len(classes)):\n",
    "        precisions[i], recalls[i], _ = precision_recall_curve(y_test_binarized[:,i], y_score[:,i])\n",
    "        aps.append(average_precision_score(y_test_binarized[:,i], y_score[:,i]))\n",
    "    recall_grid = np.linspace(0,1,200); mean_prec = np.zeros_like(recall_grid)\n",
    "    for i in range(len(classes)):\n",
    "        mean_prec += np.interp(recall_grid, recalls[i][::-1], precisions[i][::-1])\n",
    "    mean_prec /= len(classes)\n",
    "    plt.plot(recall_grid, mean_prec, label=f\"{name} (AP={np.mean(aps):.3f})\")\n",
    "plt.xlabel('Recall'); plt.ylabel('Precision'); plt.title('OvR Macro-averaged PRC - all models')\n",
    "plt.legend(loc='lower left', fontsize='small'); plt.grid(alpha=0.2); plt.show()"
   ]
  },
  {
   "cell_type": "markdown",
   "id": "d5c89a36-5614-4408-b033-05f4b5a9e580",
   "metadata": {},
   "source": [
    "### PRC Interpretation"
   ]
  },
  {
   "cell_type": "markdown",
   "id": "9a2adfd4-409e-4290-9bbf-b49624a9d8eb",
   "metadata": {},
   "source": [
    "From the Precision–Recall curves, the **K-Nearest Neighbors (KNN) model achieved the highest average precision (AP = 0.922)**, closely followed by the Support Vector Classifier (SVC) with an AP of 0.918. These models maintain high precision even as recall increases, meaning they can correctly identify most positive samples while keeping false positives low. The Logistic Regression and Gaussian Naive Bayes models also performed fairly well, with AP values of 0.871 and 0.811 respectively, while the Decision Tree (AP = 0.737) shows a noticeable decline in precision at higher recall levels.\n",
    "\n",
    "The **Dummy Classifier**, with an **AP of only 0.167**, performed the worst. Its PRC line is close to the diagonal, indicating almost random predictions. The sharp drop in precision as recall increases happens because, as the model tries to identify more positive cases, it starts labeling many negative samples as positive. This greatly increases false positives, which lowers precision rapidly. Such behavior is typical for poor models that do not actually distinguish between classes and instead make guesses based on class frequencies.\n"
   ]
  },
  {
   "cell_type": "markdown",
   "id": "60bf8770-6eba-484d-8e8a-30374d2f8b10",
   "metadata": {},
   "source": [
    "## Part D: Final Recommendation"
   ]
  },
  {
   "cell_type": "markdown",
   "id": "2b189316-5e7c-41e3-b8f5-f7d6f5ac29e0",
   "metadata": {},
   "source": [
    "#### 1. Synthesis\n",
    "Based on F1-Score**, ROC-AUC, and PRC-Average Precision (AP) values, the SVC, K-Nearest Neighbors (KNN), and Logistic Regression models consistently perform at the top. The Decision Tree and Gaussian Naive Bayes models show moderate results, while the Dummy Classifier remains the weakest across all metrics.\n",
    "\n",
    "However, the rankings does not perfectly align.  \n",
    "- Models such as SVC and KNN achieve very high ROC-AUC, but their PRC-AP values are slightly lower. This difference appears because ROC curves consider both positive and negative classes equally, while PRC focuses only on the positive (minority) class.  \n",
    "- A model can therefore have a strong ROC-AUC yet a somewhat weaker PRC-AP if it struggles to maintain high precision when identifying minority classes.  \n",
    "These differences highlight that ROC-AUC measures overall separability, while PRC-AP is more sensitive to the model’s precision–recall balance.\n",
    "\n",
    "#### 2. Recommendation\n",
    "After analyzing all three metrics together, the **Support Vector Classifier (SVC) stands out as the best overall model** for this task. It achieved the highest ROC-AUC (0.985) and a very high PRC-AP (0.918), showing strong and stable performance across all thresholds. The KNN model also performed competitively, but SVC offers a slightly better balance between precision and recall, making it more reliable for multi-class land-cover classification. Therefore, SVC is recommended as the final model due to its consistent performance, robustness across decision thresholds, and its ability to generalize well to unseen data.\n"
   ]
  },
  {
   "cell_type": "markdown",
   "id": "2d89b5e5-b7e5-425d-8480-b74e2ab387ad",
   "metadata": {},
   "source": [
    "## Brownie Points Task"
   ]
  },
  {
   "cell_type": "markdown",
   "id": "295188f3-7ad6-4e4e-b2c2-23763d900ee0",
   "metadata": {},
   "source": [
    "#### Experimenting with RandomForest and XGBoost Classifiers"
   ]
  },
  {
   "cell_type": "code",
   "execution_count": 11,
   "id": "4392dcc1-29a2-4448-be6d-ce7c33106f55",
   "metadata": {},
   "outputs": [],
   "source": [
    "from sklearn.preprocessing import LabelEncoder\n",
    "\n",
    "le = LabelEncoder()\n",
    "y_train_enc = le.fit_transform(y_train)\n",
    "y_test_enc  = le.transform(y_test)\n",
    "classes_enc = np.arange(len(le.classes_))\n"
   ]
  },
  {
   "cell_type": "code",
   "execution_count": 16,
   "id": "7192d50d-2685-4316-afd3-d38278e6462a",
   "metadata": {},
   "outputs": [
    {
     "data": {
      "text/html": [
       "<div>\n",
       "<style scoped>\n",
       "    .dataframe tbody tr th:only-of-type {\n",
       "        vertical-align: middle;\n",
       "    }\n",
       "\n",
       "    .dataframe tbody tr th {\n",
       "        vertical-align: top;\n",
       "    }\n",
       "\n",
       "    .dataframe thead th {\n",
       "        text-align: right;\n",
       "    }\n",
       "</style>\n",
       "<table border=\"1\" class=\"dataframe\">\n",
       "  <thead>\n",
       "    <tr style=\"text-align: right;\">\n",
       "      <th></th>\n",
       "      <th>Model</th>\n",
       "      <th>Accuracy</th>\n",
       "      <th>Weighted F1</th>\n",
       "      <th>ROC-AUC (macro)</th>\n",
       "      <th>PR-AP (macro)</th>\n",
       "    </tr>\n",
       "  </thead>\n",
       "  <tbody>\n",
       "    <tr>\n",
       "      <th>0</th>\n",
       "      <td>RandomForest</td>\n",
       "      <td>0.911</td>\n",
       "      <td>0.909</td>\n",
       "      <td>0.990</td>\n",
       "      <td>0.952</td>\n",
       "    </tr>\n",
       "    <tr>\n",
       "      <th>1</th>\n",
       "      <td>XGBoost</td>\n",
       "      <td>0.908</td>\n",
       "      <td>0.907</td>\n",
       "      <td>0.991</td>\n",
       "      <td>0.954</td>\n",
       "    </tr>\n",
       "  </tbody>\n",
       "</table>\n",
       "</div>"
      ],
      "text/plain": [
       "          Model  Accuracy  Weighted F1  ROC-AUC (macro)  PR-AP (macro)\n",
       "0  RandomForest     0.911        0.909            0.990          0.952\n",
       "1       XGBoost     0.908        0.907            0.991          0.954"
      ]
     },
     "metadata": {},
     "output_type": "display_data"
    }
   ],
   "source": [
    "from sklearn.preprocessing import LabelEncoder, label_binarize\n",
    "from sklearn.metrics import (\n",
    "    accuracy_score, f1_score, roc_auc_score, average_precision_score,\n",
    "    roc_curve, precision_recall_curve, auc\n",
    ")\n",
    "from sklearn.ensemble import RandomForestClassifier\n",
    "from xgboost import XGBClassifier\n",
    "\n",
    "# 1) Define models\n",
    "extra_models = {\n",
    "    \"RandomForest\": RandomForestClassifier(\n",
    "        n_estimators=200, random_state=42, n_jobs=-1\n",
    "    ),\n",
    "    \"XGBoost\": XGBClassifier(\n",
    "        objective=\"multi:softprob\",\n",
    "        num_class=len(le.classes_),\n",
    "        n_estimators=200,\n",
    "        learning_rate=0.1,\n",
    "        max_depth=6,\n",
    "        subsample=0.8,\n",
    "        colsample_bytree=0.8,\n",
    "        tree_method=\"hist\",\n",
    "        eval_metric=\"mlogloss\",\n",
    "        random_state=42\n",
    "    )\n",
    "}\n",
    "\n",
    "def eval_model(model, Xtr, ytr, Xte, yte):\n",
    "    model.fit(Xtr, ytr)\n",
    "    y_pred  = model.predict(Xte)\n",
    "    y_score = model.predict_proba(Xte)  # shape: (n_samples, n_classes)\n",
    "\n",
    "    acc = accuracy_score(yte, y_pred)\n",
    "    f1w = f1_score(yte, y_pred, average=\"weighted\")\n",
    "\n",
    "    yte_bin = label_binarize(yte, classes=classes_enc)\n",
    "    roc_auc_macro = roc_auc_score(yte_bin, y_score, average=\"macro\", multi_class=\"ovr\")\n",
    "    pr_ap_macro   = average_precision_score(yte_bin, y_score, average=\"macro\")\n",
    "    return y_pred, y_score, acc, f1w, roc_auc_macro, pr_ap_macro\n",
    "\n",
    "\n",
    "results = []\n",
    "probs = {}  # store for plotting\n",
    "for name, model in extra_models.items():\n",
    "    y_pred, y_score, acc, f1w, auc_m, ap_m = eval_model(\n",
    "        model, X_train_scaled, y_train_enc, X_test_scaled, y_test_enc\n",
    "    )\n",
    "    probs[name] = y_score\n",
    "    results.append({\n",
    "        \"Model\": name,\n",
    "        \"Accuracy\": round(acc, 3),\n",
    "        \"Weighted F1\": round(f1w, 3),\n",
    "        \"ROC-AUC (macro)\": round(auc_m, 3),\n",
    "        \"PR-AP (macro)\": round(ap_m, 3)\n",
    "    })\n",
    "\n",
    "df_extra = pd.DataFrame(results)\n",
    "display(df_extra)\n",
    "\n"
   ]
  },
  {
   "cell_type": "markdown",
   "id": "4af6a038-5f9b-47e1-8074-c26c25079496",
   "metadata": {},
   "source": [
    "#### Experimenting with a Model Having AUC < 0.5"
   ]
  },
  {
   "cell_type": "code",
   "execution_count": 20,
   "id": "0ce92ab2-4346-4d90-ab04-a64bf10780fe",
   "metadata": {},
   "outputs": [
    {
     "name": "stdout",
     "output_type": "stream",
     "text": [
      "Flipped-Label Logistic Regression (Bad Model)  →  Macro ROC-AUC = 0.413\n"
     ]
    }
   ],
   "source": [
    "from sklearn.linear_model import LogisticRegression\n",
    "\n",
    "np.random.seed(42)\n",
    "y_train_flipped = np.random.permutation(y_train_enc)  # shuffle labels randomly\n",
    "\n",
    "bad_model = LogisticRegression(max_iter=1000, random_state=42)\n",
    "bad_model.fit(X_train_scaled, y_train_flipped)\n",
    "\n",
    "y_score_bad = bad_model.predict_proba(X_test_scaled)\n",
    "\n",
    "# Compute macro-average ROC-AUC\n",
    "y_test_bin = label_binarize(y_test_enc, classes=np.arange(len(le.classes_)))\n",
    "auc_bad = roc_auc_score(y_test_bin, y_score_bad, average=\"macro\", multi_class=\"ovr\")\n",
    "\n",
    "print(f\"Flipped-Label Logistic Regression (Bad Model)  →  Macro ROC-AUC = {auc_bad:.3f}\")\n"
   ]
  },
  {
   "cell_type": "markdown",
   "id": "6ba70433-3a9b-4e5d-a740-ec86b4a0830b",
   "metadata": {},
   "source": [
    "#### Interpretation\n",
    "\n",
    "The flipped-label Logistic Regression gives an AUC below 0.5, meaning it performs *worse than random guessing*.  \n",
    "This happens because the model was trained on incorrect (shuffled) labels, so it learns the opposite relationships between inputs and targets.  \n",
    "Its ROC curve would lie below the diagonal, showing that as the model tries to increase true positives, it actually increases false positives faster.  \n"
   ]
  },
  {
   "cell_type": "code",
   "execution_count": null,
   "id": "d5ddc930-ac8d-4cd9-93fe-9696b64c7f1f",
   "metadata": {},
   "outputs": [],
   "source": []
  }
 ],
 "metadata": {
  "kernelspec": {
   "display_name": "Python 3 (ipykernel)",
   "language": "python",
   "name": "python3"
  },
  "language_info": {
   "codemirror_mode": {
    "name": "ipython",
    "version": 3
   },
   "file_extension": ".py",
   "mimetype": "text/x-python",
   "name": "python",
   "nbconvert_exporter": "python",
   "pygments_lexer": "ipython3",
   "version": "3.11.1"
  }
 },
 "nbformat": 4,
 "nbformat_minor": 5
}
